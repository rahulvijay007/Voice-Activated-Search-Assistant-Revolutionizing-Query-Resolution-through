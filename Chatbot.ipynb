{
 "cells": [
  {
   "cell_type": "markdown",
   "id": "1dd8cb77",
   "metadata": {},
   "source": [
    "#  Setting Up Environment and Libraries"
   ]
  },
  {
   "cell_type": "code",
   "execution_count": 1,
   "id": "903f2da8",
   "metadata": {},
   "outputs": [],
   "source": [
    "# Install required libraries\n",
    "# !pip install nltk speechrecognition pyttsx3\n",
    "\n",
    "# Import necessary libraries\n",
    "import speech_recognition as sr\n",
    "import pyttsx3\n",
    "import nltk\n",
    "from nltk.tokenize import word_tokenize\n",
    "from nltk.corpus import stopwords\n",
    "from nltk.stem import WordNetLemmatizer\n",
    "from sklearn.feature_extraction.text import TfidfVectorizer\n",
    "from sklearn.metrics.pairwise import cosine_similarity\n",
    "import re\n",
    "import random\n"
   ]
  },
  {
   "cell_type": "markdown",
   "id": "dac72704",
   "metadata": {},
   "source": [
    "# Data Preprocessing and NLP Setup"
   ]
  },
  {
   "cell_type": "code",
   "execution_count": 2,
   "id": "2d622d38",
   "metadata": {},
   "outputs": [
    {
     "name": "stderr",
     "output_type": "stream",
     "text": [
      "[nltk_data] Downloading package punkt to\n",
      "[nltk_data]     C:\\Users\\RAHULSRI\\AppData\\Roaming\\nltk_data...\n",
      "[nltk_data]   Package punkt is already up-to-date!\n",
      "[nltk_data] Downloading package stopwords to\n",
      "[nltk_data]     C:\\Users\\RAHULSRI\\AppData\\Roaming\\nltk_data...\n",
      "[nltk_data]   Package stopwords is already up-to-date!\n",
      "[nltk_data] Downloading package wordnet to\n",
      "[nltk_data]     C:\\Users\\RAHULSRI\\AppData\\Roaming\\nltk_data...\n",
      "[nltk_data]   Package wordnet is already up-to-date!\n"
     ]
    },
    {
     "data": {
      "text/plain": [
       "True"
      ]
     },
     "execution_count": 2,
     "metadata": {},
     "output_type": "execute_result"
    }
   ],
   "source": [
    "nltk.download('punkt')\n",
    "nltk.download('stopwords')\n",
    "nltk.download('wordnet')"
   ]
  },
  {
   "cell_type": "code",
   "execution_count": 3,
   "id": "4439f720",
   "metadata": {},
   "outputs": [],
   "source": [
    "# Preprocessing functions\n",
    "def preprocess_text(text):\n",
    "    text = re.sub(r'\\[[0-9]*\\]', ' ', text)\n",
    "    text = re.sub(r'\\s+', ' ', text)\n",
    "    text = text.lower()\n",
    "    text = re.sub(r'\\W', ' ', text)\n",
    "    text = re.sub(r'\\d', ' ', text)\n",
    "    text = re.sub(r'\\s+', ' ', text)\n",
    "    return text\n",
    "\n",
    "# Lemmatization\n",
    "def perform_lemmatization(text):\n",
    "    lemmatizer = WordNetLemmatizer()\n",
    "    tokens = word_tokenize(text)\n",
    "    lemmatized_tokens = [lemmatizer.lemmatize(word) for word in tokens]\n",
    "    return ' '.join(lemmatized_tokens)\n"
   ]
  },
  {
   "cell_type": "markdown",
   "id": "dc185e9c",
   "metadata": {},
   "source": [
    "# TF-IDF Vectorization and Stop Words Removal"
   ]
  },
  {
   "cell_type": "code",
   "execution_count": 4,
   "id": "b8b431d6",
   "metadata": {},
   "outputs": [],
   "source": [
    "# TF-IDF Vectorization\n",
    "def vectorize_text(corpus):\n",
    "    tfidf_vectorizer = TfidfVectorizer()\n",
    "    tfidf_matrix = tfidf_vectorizer.fit_transform(corpus)\n",
    "    return tfidf_matrix\n",
    "\n",
    "# Stop words removal\n",
    "stop_words = set(stopwords.words('english'))\n"
   ]
  },
  {
   "cell_type": "markdown",
   "id": "733e22fe",
   "metadata": {},
   "source": [
    "# Voice Recognition Integration"
   ]
  },
  {
   "cell_type": "code",
   "execution_count": 5,
   "id": "cfca8547",
   "metadata": {},
   "outputs": [],
   "source": [
    "def recognize_speech():\n",
    "    recognizer = sr.Recognizer()\n",
    "    with sr.Microphone() as source:\n",
    "        print(\"Listening...\")\n",
    "        recognizer.adjust_for_ambient_noise(source)\n",
    "        audio = recognizer.listen(source)\n",
    "\n",
    "    try:\n",
    "        print(\"Recognizing...\")\n",
    "        query = recognizer.recognize_google(audio)\n",
    "        print(f\"You said: {query}\")\n",
    "        return query\n",
    "    except sr.UnknownValueError:\n",
    "        print(\"Sorry, could not understand the audio.\")\n",
    "        return \"\"\n",
    "    except sr.RequestError:\n",
    "        print(\"Sorry, cannot access Google Speech Recognition service.\")\n",
    "        return \"\"\n"
   ]
  },
  {
   "cell_type": "markdown",
   "id": "890e40cb",
   "metadata": {},
   "source": [
    "# Intent-Based Query Processing"
   ]
  },
  {
   "cell_type": "code",
   "execution_count": 6,
   "id": "f768ae30",
   "metadata": {},
   "outputs": [],
   "source": [
    "def process_query(query):\n",
    "    # Process the query using NLP techniques\n",
    "    query = preprocess_text(query)\n",
    "    query = perform_lemmatization(query)\n",
    "    query_vectorized = vectorize_text([query])\n",
    "\n",
    "    # Find the most similar URL based on cosine similarity\n",
    "    similarities = cosine_similarity(query_vectorized, tfidf_matrix)\n",
    "    similar_urls = [(similarity, url) for similarity, url in zip(similarities[0], urls)]\n",
    "    similar_urls.sort(reverse=True)\n",
    "    return similar_urls[0][1]\n"
   ]
  },
  {
   "cell_type": "markdown",
   "id": "5e222b10",
   "metadata": {},
   "source": [
    "# Chatbot Implementation"
   ]
  },
  {
   "cell_type": "code",
   "execution_count": 7,
   "id": "e64a38db",
   "metadata": {},
   "outputs": [],
   "source": [
    "def chat():\n",
    "    print(\"Voice-Activated Search Assistant: Listening...\")\n",
    "    while True:\n",
    "        query = recognize_speech()\n",
    "        if query.lower() == 'exit':\n",
    "            print(\"Exiting the chatbot.\")\n",
    "            break\n",
    "        else:\n",
    "            similar_url = process_query(query)\n",
    "            print(\"Here is the most relevant URL:\", similar_url)\n"
   ]
  },
  {
   "cell_type": "markdown",
   "id": "8166d0b4",
   "metadata": {},
   "source": [
    "# Main Function"
   ]
  },
  {
   "cell_type": "code",
   "execution_count": 9,
   "id": "a1a5507f",
   "metadata": {},
   "outputs": [
    {
     "name": "stdout",
     "output_type": "stream",
     "text": [
      "Voice-Activated Search Assistant: Listening...\n",
      "Listening...\n",
      "Recognizing...\n",
      "You said: forest around Bangalore\n"
     ]
    },
    {
     "ename": "ValueError",
     "evalue": "Incompatible dimension for X and Y matrices: X.shape[1] == 3 while Y.shape[1] == 78",
     "output_type": "error",
     "traceback": [
      "\u001b[1;31m---------------------------------------------------------------------------\u001b[0m",
      "\u001b[1;31mValueError\u001b[0m                                Traceback (most recent call last)",
      "Cell \u001b[1;32mIn[9], line 76\u001b[0m\n\u001b[0;32m     73\u001b[0m tfidf_matrix \u001b[38;5;241m=\u001b[39m vectorize_text(corpus)\n\u001b[0;32m     75\u001b[0m \u001b[38;5;66;03m# Start the chat\u001b[39;00m\n\u001b[1;32m---> 76\u001b[0m chat()\n",
      "Cell \u001b[1;32mIn[7], line 9\u001b[0m, in \u001b[0;36mchat\u001b[1;34m()\u001b[0m\n\u001b[0;32m      7\u001b[0m     \u001b[38;5;28;01mbreak\u001b[39;00m\n\u001b[0;32m      8\u001b[0m \u001b[38;5;28;01melse\u001b[39;00m:\n\u001b[1;32m----> 9\u001b[0m     similar_url \u001b[38;5;241m=\u001b[39m process_query(query)\n\u001b[0;32m     10\u001b[0m     \u001b[38;5;28mprint\u001b[39m(\u001b[38;5;124m\"\u001b[39m\u001b[38;5;124mHere is the most relevant URL:\u001b[39m\u001b[38;5;124m\"\u001b[39m, similar_url)\n",
      "Cell \u001b[1;32mIn[6], line 8\u001b[0m, in \u001b[0;36mprocess_query\u001b[1;34m(query)\u001b[0m\n\u001b[0;32m      5\u001b[0m query_vectorized \u001b[38;5;241m=\u001b[39m vectorize_text([query])\n\u001b[0;32m      7\u001b[0m \u001b[38;5;66;03m# Find the most similar URL based on cosine similarity\u001b[39;00m\n\u001b[1;32m----> 8\u001b[0m similarities \u001b[38;5;241m=\u001b[39m cosine_similarity(query_vectorized, tfidf_matrix)\n\u001b[0;32m      9\u001b[0m similar_urls \u001b[38;5;241m=\u001b[39m [(similarity, url) \u001b[38;5;28;01mfor\u001b[39;00m similarity, url \u001b[38;5;129;01min\u001b[39;00m \u001b[38;5;28mzip\u001b[39m(similarities[\u001b[38;5;241m0\u001b[39m], urls)]\n\u001b[0;32m     10\u001b[0m similar_urls\u001b[38;5;241m.\u001b[39msort(reverse\u001b[38;5;241m=\u001b[39m\u001b[38;5;28;01mTrue\u001b[39;00m)\n",
      "File \u001b[1;32mc:\\Users\\RAHULSRI\\anaconda3\\Lib\\site-packages\\sklearn\\utils\\_param_validation.py:211\u001b[0m, in \u001b[0;36mvalidate_params.<locals>.decorator.<locals>.wrapper\u001b[1;34m(*args, **kwargs)\u001b[0m\n\u001b[0;32m    205\u001b[0m \u001b[38;5;28;01mtry\u001b[39;00m:\n\u001b[0;32m    206\u001b[0m     \u001b[38;5;28;01mwith\u001b[39;00m config_context(\n\u001b[0;32m    207\u001b[0m         skip_parameter_validation\u001b[38;5;241m=\u001b[39m(\n\u001b[0;32m    208\u001b[0m             prefer_skip_nested_validation \u001b[38;5;129;01mor\u001b[39;00m global_skip_validation\n\u001b[0;32m    209\u001b[0m         )\n\u001b[0;32m    210\u001b[0m     ):\n\u001b[1;32m--> 211\u001b[0m         \u001b[38;5;28;01mreturn\u001b[39;00m func(\u001b[38;5;241m*\u001b[39margs, \u001b[38;5;241m*\u001b[39m\u001b[38;5;241m*\u001b[39mkwargs)\n\u001b[0;32m    212\u001b[0m \u001b[38;5;28;01mexcept\u001b[39;00m InvalidParameterError \u001b[38;5;28;01mas\u001b[39;00m e:\n\u001b[0;32m    213\u001b[0m     \u001b[38;5;66;03m# When the function is just a wrapper around an estimator, we allow\u001b[39;00m\n\u001b[0;32m    214\u001b[0m     \u001b[38;5;66;03m# the function to delegate validation to the estimator, but we replace\u001b[39;00m\n\u001b[0;32m    215\u001b[0m     \u001b[38;5;66;03m# the name of the estimator by the name of the function in the error\u001b[39;00m\n\u001b[0;32m    216\u001b[0m     \u001b[38;5;66;03m# message to avoid confusion.\u001b[39;00m\n\u001b[0;32m    217\u001b[0m     msg \u001b[38;5;241m=\u001b[39m re\u001b[38;5;241m.\u001b[39msub(\n\u001b[0;32m    218\u001b[0m         \u001b[38;5;124mr\u001b[39m\u001b[38;5;124m\"\u001b[39m\u001b[38;5;124mparameter of \u001b[39m\u001b[38;5;124m\\\u001b[39m\u001b[38;5;124mw+ must be\u001b[39m\u001b[38;5;124m\"\u001b[39m,\n\u001b[0;32m    219\u001b[0m         \u001b[38;5;124mf\u001b[39m\u001b[38;5;124m\"\u001b[39m\u001b[38;5;124mparameter of \u001b[39m\u001b[38;5;132;01m{\u001b[39;00mfunc\u001b[38;5;241m.\u001b[39m\u001b[38;5;18m__qualname__\u001b[39m\u001b[38;5;132;01m}\u001b[39;00m\u001b[38;5;124m must be\u001b[39m\u001b[38;5;124m\"\u001b[39m,\n\u001b[0;32m    220\u001b[0m         \u001b[38;5;28mstr\u001b[39m(e),\n\u001b[0;32m    221\u001b[0m     )\n",
      "File \u001b[1;32mc:\\Users\\RAHULSRI\\anaconda3\\Lib\\site-packages\\sklearn\\metrics\\pairwise.py:1577\u001b[0m, in \u001b[0;36mcosine_similarity\u001b[1;34m(X, Y, dense_output)\u001b[0m\n\u001b[0;32m   1542\u001b[0m \u001b[38;5;250m\u001b[39m\u001b[38;5;124;03m\"\"\"Compute cosine similarity between samples in X and Y.\u001b[39;00m\n\u001b[0;32m   1543\u001b[0m \n\u001b[0;32m   1544\u001b[0m \u001b[38;5;124;03mCosine similarity, or the cosine kernel, computes similarity as the\u001b[39;00m\n\u001b[1;32m   (...)\u001b[0m\n\u001b[0;32m   1573\u001b[0m \u001b[38;5;124;03m    Returns the cosine similarity between samples in X and Y.\u001b[39;00m\n\u001b[0;32m   1574\u001b[0m \u001b[38;5;124;03m\"\"\"\u001b[39;00m\n\u001b[0;32m   1575\u001b[0m \u001b[38;5;66;03m# to avoid recursive import\u001b[39;00m\n\u001b[1;32m-> 1577\u001b[0m X, Y \u001b[38;5;241m=\u001b[39m check_pairwise_arrays(X, Y)\n\u001b[0;32m   1579\u001b[0m X_normalized \u001b[38;5;241m=\u001b[39m normalize(X, copy\u001b[38;5;241m=\u001b[39m\u001b[38;5;28;01mTrue\u001b[39;00m)\n\u001b[0;32m   1580\u001b[0m \u001b[38;5;28;01mif\u001b[39;00m X \u001b[38;5;129;01mis\u001b[39;00m Y:\n",
      "File \u001b[1;32mc:\\Users\\RAHULSRI\\anaconda3\\Lib\\site-packages\\sklearn\\metrics\\pairwise.py:190\u001b[0m, in \u001b[0;36mcheck_pairwise_arrays\u001b[1;34m(X, Y, precomputed, dtype, accept_sparse, force_all_finite, copy)\u001b[0m\n\u001b[0;32m    184\u001b[0m         \u001b[38;5;28;01mraise\u001b[39;00m \u001b[38;5;167;01mValueError\u001b[39;00m(\n\u001b[0;32m    185\u001b[0m             \u001b[38;5;124m\"\u001b[39m\u001b[38;5;124mPrecomputed metric requires shape \u001b[39m\u001b[38;5;124m\"\u001b[39m\n\u001b[0;32m    186\u001b[0m             \u001b[38;5;124m\"\u001b[39m\u001b[38;5;124m(n_queries, n_indexed). Got (\u001b[39m\u001b[38;5;132;01m%d\u001b[39;00m\u001b[38;5;124m, \u001b[39m\u001b[38;5;132;01m%d\u001b[39;00m\u001b[38;5;124m) \u001b[39m\u001b[38;5;124m\"\u001b[39m\n\u001b[0;32m    187\u001b[0m             \u001b[38;5;124m\"\u001b[39m\u001b[38;5;124mfor \u001b[39m\u001b[38;5;132;01m%d\u001b[39;00m\u001b[38;5;124m indexed.\u001b[39m\u001b[38;5;124m\"\u001b[39m \u001b[38;5;241m%\u001b[39m (X\u001b[38;5;241m.\u001b[39mshape[\u001b[38;5;241m0\u001b[39m], X\u001b[38;5;241m.\u001b[39mshape[\u001b[38;5;241m1\u001b[39m], Y\u001b[38;5;241m.\u001b[39mshape[\u001b[38;5;241m0\u001b[39m])\n\u001b[0;32m    188\u001b[0m         )\n\u001b[0;32m    189\u001b[0m \u001b[38;5;28;01melif\u001b[39;00m X\u001b[38;5;241m.\u001b[39mshape[\u001b[38;5;241m1\u001b[39m] \u001b[38;5;241m!=\u001b[39m Y\u001b[38;5;241m.\u001b[39mshape[\u001b[38;5;241m1\u001b[39m]:\n\u001b[1;32m--> 190\u001b[0m     \u001b[38;5;28;01mraise\u001b[39;00m \u001b[38;5;167;01mValueError\u001b[39;00m(\n\u001b[0;32m    191\u001b[0m         \u001b[38;5;124m\"\u001b[39m\u001b[38;5;124mIncompatible dimension for X and Y matrices: \u001b[39m\u001b[38;5;124m\"\u001b[39m\n\u001b[0;32m    192\u001b[0m         \u001b[38;5;124m\"\u001b[39m\u001b[38;5;124mX.shape[1] == \u001b[39m\u001b[38;5;132;01m%d\u001b[39;00m\u001b[38;5;124m while Y.shape[1] == \u001b[39m\u001b[38;5;132;01m%d\u001b[39;00m\u001b[38;5;124m\"\u001b[39m \u001b[38;5;241m%\u001b[39m (X\u001b[38;5;241m.\u001b[39mshape[\u001b[38;5;241m1\u001b[39m], Y\u001b[38;5;241m.\u001b[39mshape[\u001b[38;5;241m1\u001b[39m])\n\u001b[0;32m    193\u001b[0m     )\n\u001b[0;32m    195\u001b[0m \u001b[38;5;28;01mreturn\u001b[39;00m X, Y\n",
      "\u001b[1;31mValueError\u001b[0m: Incompatible dimension for X and Y matrices: X.shape[1] == 3 while Y.shape[1] == 78"
     ]
    }
   ],
   "source": [
    "# Main function\n",
    "if __name__ == \"__main__\":\n",
    "    urls = ['https://bhuvan.nrsc.gov.in',\n",
    "            'https://bhuvan-app3.nrsc.gov.in/aadhaar/',\n",
    "            'https://bhuvan-app2.nrsc.gov.in/mgnrega/mgnrega_phase2.php',\n",
    "            'https://bhuvan-app3.nrsc.gov.in/data/',\n",
    "            'https://bhuvan-app1.nrsc.gov.in/bhuvan2d/bhuvan/bhuvan2d.php',\n",
    "            'https://bhuvan.nrsc.gov.in/home/index.php',\n",
    "            'https://bhuvan-app1.nrsc.gov.in/api/',\n",
    "            'https://bhuvan-app1.nrsc.gov.in/hfa/housing_for_all.php',\n",
    "            'https://bhuvan-app1.nrsc.gov.in/apshcl',\n",
    "            'https://bhuvan-app1.nrsc.gov.in/ntr',\n",
    "            'https://bhuvan.nrsc.gov.in/forum',\n",
    "            'https://bhuvan-wbis.nrsc.gov.in/',\n",
    "            'https://bhuvan.nrsc.gov.in/geonetwork/',\n",
    "            'https://bhuvan-app2.nrsc.gov.in/planner/',\n",
    "            'https://bhuvan-app1.nrsc.gov.in/globe/3d.php',\n",
    "            'https://bhuvan-app1.nrsc.gov.in/mhrd_rusa/',\n",
    "            'https://bhuvan-app1.nrsc.gov.in/geographicalindication/index.php',\n",
    "            'https://bhuvan-app1.nrsc.gov.in/flycatchers/flycatchers.php',\n",
    "            'https://bhuvan-app1.nrsc.gov.in/mhrd_ncert',\n",
    "            'https://bhuvan-app1.nrsc.gov.in/nabard',\n",
    "            'https://bhuvan-app1.nrsc.gov.in/iwmp',\n",
    "            'https://bhuvan-app1.nrsc.gov.in/tourism/tourism.php',\n",
    "            'https://bhuvan-app1.nrsc.gov.in/hp_forest',\n",
    "            'https://bhuvan-app1.nrsc.gov.in/disaster/disaster.php',\n",
    "            'https://bhuvan-app1.nrsc.gov.in/thematic/thematic/index.php',\n",
    "            'https://bhuvan-app1.nrsc.gov.in/imd/',\n",
    "            'https://bhuvan-app1.nrsc.gov.in/pdmc/',\n",
    "            'https://bhuvan-app1.nrsc.gov.in/heatwave/',\n",
    "            'https://bhuvan-app1.nrsc.gov.in/mowr_ganga/',\n",
    "            'https://bhuvan-app1.nrsc.gov.in/ts_forest/',\n",
    "            'https://bhuvan-app1.nrsc.gov.in/pb_forest/',\n",
    "            'https://bhuvan-app1.nrsc.gov.in/narl/',\n",
    "            'https://bhuvan-app1.nrsc.gov.in/ka_forest',\n",
    "            'https://bhuvan-app1.nrsc.gov.in/state/HR',\n",
    "            'https://bhuvan-app1.nrsc.gov.in/saraswati/',\n",
    "            'https://bhuvan-app1.nrsc.gov.in/web_view/index.php',\n",
    "            'https://bhuvan-app1.nrsc.gov.in/pmjvk',\n",
    "            'https://bhuvan-app1.nrsc.gov.in/anganwadi/',\n",
    "            'https://bhuvan-app2.nrsc.gov.in/mgnregatpv/',\n",
    "            'https://bhuvan-app3.nrsc.gov.in/corona/',\n",
    "            'https://bhuvan-app1.nrsc.gov.in/moef_cris',\n",
    "            'https://bhuvan-app1.nrsc.gov.in/2dresources/bhuvanstore.php',\n",
    "            'https://bhuvan-app1.nrsc.gov.in/rbi',\n",
    "            'https://bhuvan-app1.nrsc.gov.in/sitemap',\n",
    "            'https://bhuvan-app1.nrsc.gov.in/mhrd_ncert/sb/sb.php',\n",
    "            'https://bhuvan-app1.nrsc.gov.in/tourism/tourism.php?tourismid=1',\n",
    "            'https://bhuvan-app1.nrsc.gov.in/tr_forest/',\n",
    "            'https://bhuvan-app1.nrsc.gov.in/municipal/municipal.php',\n",
    "            'https://bhuvan-app1.nrsc.gov.in/toll/morth_nhai.php',\n",
    "            'https://bhuvan-app1.nrsc.gov.in/walamtari/walamtari.php',\n",
    "            'https://bhuvan-app1.nrsc.gov.in/mines/mines.php',\n",
    "            'https://bhuvan-app1.nrsc.gov.in/agriculture/agri.php',\n",
    "            'https://bhuvan-app1.nrsc.gov.in/deltas/index.php',\n",
    "            'https://bhuvan-app1.nrsc.gov.in/cdma/index.php',\n",
    "            'https://bhuvan-app1.nrsc.gov.in/state/AP',\n",
    "            'https://bhuvan-mapper1.nrsc.gov.in/twris',\n",
    "            'https://bhuvan-app1.nrsc.gov.in/multilingual',\n",
    "            'https://bhuvan-app1.nrsc.gov.in/disaster/disaster.php?id=fire',\n",
    "            'https://bhuvan-app1.nrsc.gov.in/shipping',\n",
    "            'https://bhuvan-app1.nrsc.gov.in/rkvy/index.php',\n",
    "            'https://bhuvan-app1.nrsc.gov.in/aibp/aibp.php',\n",
    "            'https://bhuvan-app1.nrsc.gov.in/mwrds/index.php',\n",
    "            'https://bhuvan-app1.nrsc.gov.in/pmgsy/home/index.php',\n",
    "            'https://bhuvan-app1.nrsc.gov.in/collaboration/']\n",
    "\n",
    "    # Corpus preparation\n",
    "    corpus = [preprocess_text(url) for url in urls]\n",
    "    corpus = [perform_lemmatization(text) for text in corpus]\n",
    "\n",
    "    # Vectorize the corpus\n",
    "    tfidf_matrix = vectorize_text(corpus)\n",
    "\n",
    "    # Start the chat\n",
    "    chat()\n"
   ]
  }
 ],
 "metadata": {
  "kernelspec": {
   "display_name": "Python 3 (ipykernel)",
   "language": "python",
   "name": "python3"
  },
  "language_info": {
   "codemirror_mode": {
    "name": "ipython",
    "version": 3
   },
   "file_extension": ".py",
   "mimetype": "text/x-python",
   "name": "python",
   "nbconvert_exporter": "python",
   "pygments_lexer": "ipython3",
   "version": "3.11.4"
  }
 },
 "nbformat": 4,
 "nbformat_minor": 5
}
